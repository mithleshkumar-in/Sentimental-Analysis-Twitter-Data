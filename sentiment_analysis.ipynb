{
  "cells": [
    {
      "cell_type": "code",
      "execution_count": null,
      "id": "a41655e1",
      "metadata": {
        "id": "a41655e1"
      },
      "outputs": [],
      "source": [
        "# Import necessary libraries\n",
        "import pandas as pd\n",
        "import numpy as np\n",
        "import textblob\n",
        "import matplotlib.pyplot as plt\n",
        "import seaborn as sns\n",
        "from nltk.stem.porter import *\n",
        "import re\n",
        "import string\n",
        "import nltk\n",
        "import warnings\n",
        "%matplotlib inline\n",
        "warnings.filterwarnings('ignore')"
      ]
    },
    {
      "cell_type": "code",
      "execution_count": null,
      "id": "a1e4815e",
      "metadata": {
        "id": "a1e4815e"
      },
      "outputs": [],
      "source": [
        "# Load the dataset\n",
        "df = pd.read_csv('Twitter_Sentiments.csv', encoding='utf-8')\n",
        "df.head() # Display the first 5 rows of the dataframe"
      ]
    },
    {
      "cell_type": "code",
      "execution_count": null,
      "id": "3a81aae8",
      "metadata": {
        "id": "3a81aae8"
      },
      "outputs": [],
      "source": [
        "# Define a function to remove patterns from text\n",
        "def remove_pattern(input_txt, pattern):\n",
        "    \"\"\"\n",
        "    Removes a given pattern from an input text.\n",
        "\n",
        "    Args:\n",
        "        input_txt: The input text.\n",
        "        pattern: The pattern to remove.\n",
        "\n",
        "    Returns:\n",
        "        The input text with the pattern removed.\n",
        "    \"\"\"\n",
        "    r = re.findall(pattern, input_txt)\n",
        "    for word in r:\n",
        "        input_txt = re.sub(word, \"\", input_txt)\n",
        "    return input_txt\n"
      ]
    },
    {
      "cell_type": "code",
      "source": [
        "# Clean the tweets\n",
        "df['clean_tweet'] = np.vectorize(remove_pattern)(df['tweet'], \"@[\\w]*\")\n",
        "df['clean_tweet'] = df['clean_tweet'].str.replace(\"[^a-zA-Z# \\U0001F600-\\U0001F64F]+\", \" \")\n",
        "df['clean_tweet'] = df['clean_tweet'].apply(lambda x: \" \".join([w for w in x.split() if len(w) > 3]))\n",
        "df.head()"
      ],
      "metadata": {
        "id": "Nffpywz_XMr7"
      },
      "id": "Nffpywz_XMr7",
      "execution_count": null,
      "outputs": []
    },
    {
      "cell_type": "code",
      "execution_count": null,
      "id": "acafc203",
      "metadata": {
        "id": "acafc203"
      },
      "outputs": [],
      "source": [
        "# Tokenize the tweets\n",
        "tokenized_tweet = df['clean_tweet'].apply(lambda x: x.split())\n",
        "\n",
        "# Stem the tokens\n",
        "from nltk.stem.porter import PorterStemmer\n",
        "stemmer = PorterStemmer()\n",
        "tokenized_tweet = tokenized_tweet.apply(lambda sentence: [stemmer.stem(word) for word in sentence])\n",
        "\n",
        "# Join the tokens back into sentences\n",
        "for i in range(len(tokenized_tweet)):\n",
        "  tokenized_tweet[i] = \" \".join(tokenized_tweet[i])\n",
        "df['clean_tweet'] = tokenized_tweet\n",
        "df.head()"
      ]
    },
    {
      "cell_type": "code",
      "execution_count": null,
      "id": "8f099666",
      "metadata": {
        "id": "8f099666"
      },
      "outputs": [],
      "source": [
        "# Generate a word cloud for all tweets\n",
        "all_words = \" \".join([sentence for sentence in df['clean_tweet']])\n",
        "from wordcloud import WordCloud\n",
        "wordcloud = WordCloud(width=800, height=500, random_state=42, max_font_size=100).generate(all_words)\n",
        "plt.figure(figsize=(15,8))\n",
        "plt.imshow(wordcloud, interpolation='bilinear')\n",
        "plt.axis('off')\n",
        "plt.show() # Display the word cloud"
      ]
    },
    {
      "cell_type": "code",
      "execution_count": null,
      "id": "7e59b714",
      "metadata": {
        "id": "7e59b714"
      },
      "outputs": [],
      "source": [
        "# Generate a word cloud for positive tweets\n",
        "pos_words = \" \".join([sentence for sentence in df['clean_tweet'][df['label'] == 0]])\n",
        "wordcloud = WordCloud(width=800, height=500, random_state=42, max_font_size=100).generate(pos_words)\n",
        "plt.figure(figsize=(15,8))\n",
        "plt.imshow(wordcloud, interpolation='bilinear')\n",
        "plt.axis('off')\n",
        "plt.show() # Display the word cloud"
      ]
    },
    {
      "cell_type": "code",
      "execution_count": null,
      "id": "5d02ccce",
      "metadata": {
        "id": "5d02ccce"
      },
      "outputs": [],
      "source": [
        "# Generate a word cloud for negative tweets\n",
        "neg_words = \" \".join([sentence for sentence in df['clean_tweet'][df['label'] == 1]])\n",
        "wordcloud = WordCloud(width=800, height=500, random_state=42, max_font_size=100).generate(neg_words)\n",
        "plt.figure(figsize=(15,8))\n",
        "plt.imshow(wordcloud, interpolation='bilinear')\n",
        "plt.axis('off')\n",
        "plt.show() # Display the word cloud"
      ]
    },
    {
      "cell_type": "code",
      "execution_count": null,
      "id": "b3165d29",
      "metadata": {
        "id": "b3165d29"
      },
      "outputs": [],
      "source": [
        "# Define a function to extract hashtags from tweets\n",
        "def hashtag_extract(tweets):\n",
        "    \"\"\"\n",
        "    Extracts hashtags from a list of tweets.\n",
        "\n",
        "    Args:\n",
        "        tweets: A list of tweets.\n",
        "\n",
        "    Returns:\n",
        "        A list of hashtags.\n",
        "    \"\"\"\n",
        "    hashtags = []\n",
        "    for tweet in tweets:\n",
        "        ht = re.findall(r\"#(\\w+)\", tweet)\n",
        "        hashtags.append(ht)\n",
        "    return hashtags\n"
      ]
    },
    {
      "cell_type": "code",
      "source": [
        "# Extract hashtags from positive and negative tweets\n",
        "ht_positive = hashtag_extract(df['clean_tweet'][df['label'] == 0])\n",
        "ht_negative = hashtag_extract(df['clean_tweet'][df['label'] == 1])\n",
        "\n",
        "# Flatten the lists of hashtags\n",
        "ht_positive = sum(ht_positive, [])\n",
        "ht_negative = sum(ht_negative, [])"
      ],
      "metadata": {
        "id": "GKGaWdqHOmio"
      },
      "id": "GKGaWdqHOmio",
      "execution_count": null,
      "outputs": []
    },
    {
      "cell_type": "code",
      "source": [
        "# Plot the top 10 hashtags for positive tweets\n",
        "freq = nltk.FreqDist(ht_positive)\n",
        "d = pd.DataFrame({'Hashtag': list(freq.keys()), 'Count': list(freq.values())})\n",
        "d = d.nlargest(columns='Count', n=10)\n",
        "plt.figure(figsize=(15,9))\n",
        "sns.barplot(data=d, x='Hashtag', y='Count')\n",
        "plt.show()  # Display the bar plot"
      ],
      "metadata": {
        "id": "KkXMSXdGOo-Y"
      },
      "id": "KkXMSXdGOo-Y",
      "execution_count": null,
      "outputs": []
    },
    {
      "cell_type": "code",
      "source": [
        "# Plot the top 10 hashtags for negative tweets\n",
        "freq = nltk.FreqDist(ht_negative)\n",
        "d = pd.DataFrame({'Hashtag': list(freq.keys()), 'Count': list(freq.values())})\n",
        "d = d.nlargest(columns='Count', n=10)\n",
        "plt.figure(figsize=(15,9))\n",
        "sns.barplot(data=d, x='Hashtag', y='Count')\n",
        "plt.show()  # Display the bar plot"
      ],
      "metadata": {
        "id": "2YZHJgOpOsE8"
      },
      "id": "2YZHJgOpOsE8",
      "execution_count": null,
      "outputs": []
    },
    {
      "cell_type": "markdown",
      "id": "56c31e3d",
      "metadata": {
        "id": "56c31e3d"
      },
      "source": [
        "## Logistic Regression"
      ]
    },
    {
      "cell_type": "code",
      "execution_count": null,
      "id": "d9112717",
      "metadata": {
        "id": "d9112717"
      },
      "outputs": [],
      "source": [
        "from sklearn.feature_extraction.text import CountVectorizer\n",
        "bow_vectorizer = CountVectorizer(max_df=0.90, min_df=2, max_features=1000, stop_words='english')\n",
        "bow = bow_vectorizer.fit_transform(df['clean_tweet'])\n",
        "\n",
        "from sklearn.linear_model import LogisticRegression\n",
        "from sklearn.metrics import f1_score, accuracy_score\n",
        "from sklearn.model_selection import train_test_split\n",
        "\n",
        "# Train a logistic regression model\n",
        "x_train, x_test, y_train, y_test = train_test_split(bow, df['label'], random_state=42, test_size=0.25)\n",
        "model = LogisticRegression()\n",
        "model.fit(x_train, y_train)\n",
        "\n",
        "# Evaluate the model\n",
        "pred = model.predict(x_test)\n",
        "print('F1 Score:', f1_score(y_test, pred))\n",
        "print('Accuracy:', accuracy_score(y_test, pred))"
      ]
    },
    {
      "cell_type": "markdown",
      "id": "48d59e26",
      "metadata": {
        "id": "48d59e26"
      },
      "source": [
        "## Support Vector Machine (SVM)"
      ]
    },
    {
      "cell_type": "code",
      "execution_count": null,
      "id": "0c3a5b1f",
      "metadata": {
        "id": "0c3a5b1f"
      },
      "outputs": [],
      "source": [
        "from sklearn.svm import SVC\n",
        "\n",
        "# Train a support vector machine model\n",
        "x_train, x_test, y_train, y_test = train_test_split(bow, df['label'], random_state=42, test_size=0.25)\n",
        "model = SVC(kernel='linear', random_state=0)\n",
        "model.fit(x_train, y_train)\n",
        "\n",
        "# Evaluate the model\n",
        "pred = model.predict(x_test)\n",
        "print('F1 Score:', f1_score(y_test, pred))\n",
        "print('Accuracy:', accuracy_score(y_test, pred))"
      ]
    },
    {
      "cell_type": "markdown",
      "id": "fca2c370",
      "metadata": {
        "id": "fca2c370"
      },
      "source": [
        "## Naive Bayes"
      ]
    },
    {
      "cell_type": "code",
      "execution_count": null,
      "id": "970d88bb",
      "metadata": {
        "id": "970d88bb"
      },
      "outputs": [],
      "source": [
        "from sklearn.naive_bayes import MultinomialNB\n",
        "\n",
        "# Train a Naive Bayes model\n",
        "x_train, x_test, y_train, y_test = train_test_split(bow, df['label'], random_state=42, test_size=0.25)\n",
        "model = MultinomialNB()\n",
        "model.fit(x_train, y_train)\n",
        "\n",
        "# Evaluate the model\n",
        "pred = model.predict(x_test)\n",
        "print('F1 Score:', f1_score(y_test, pred))\n",
        "print('Accuracy:', accuracy_score(y_test, pred))"
      ]
    }
  ],
  "metadata": {
    "colab": {
      "provenance": []
    },
    "language_info": {
      "name": "python"
    },
    "kernelspec": {
      "name": "python3",
      "display_name": "Python 3"
    }
  },
  "nbformat": 4,
  "nbformat_minor": 5
}
